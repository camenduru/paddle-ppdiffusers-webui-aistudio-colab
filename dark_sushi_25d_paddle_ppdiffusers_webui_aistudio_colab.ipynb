{
 "cells": [
  {
   "attachments": {},
   "cell_type": "markdown",
   "metadata": {
    "id": "view-in-github"
   },
   "source": [
    "[![Open In Colab](https://colab.research.google.com/assets/colab-badge.svg)](https://colab.research.google.com/github/camenduru/paddle-ppdiffusers-webui-aistudio-colab/blob/main/dark_sushi_25d_paddle_ppdiffusers_webui_aistudio_colab.ipynb)"
   ]
  },
  {
   "cell_type": "code",
   "execution_count": null,
   "metadata": {},
   "outputs": [],
   "source": [
    "%cd /content\n",
    "!git clone -b colab https://github.com/camenduru/paddle-ppdiffusers-webui-aistudio\n",
    "%cd /content/paddle-ppdiffusers-webui-aistudio\n",
    "!pip install -r requirements.txt\n",
    "\n",
    "!mkdir /content/paddle-ppdiffusers-webui-aistudio/lora /content/paddle-ppdiffusers-webui-aistudio/textual_inversion\n",
    "\n",
    "!wget https://huggingface.co/embed/negative/resolve/main/bad-artist-anime.pt -O /content/paddle-ppdiffusers-webui-aistudio/textual_inversion/bad-artist-anime.pt\n",
    "!wget https://huggingface.co/embed/negative/resolve/main/bad-artist.pt -O /content/paddle-ppdiffusers-webui-aistudio/textual_inversion/bad-artist.pt\n",
    "!wget https://huggingface.co/embed/negative/resolve/main/bad-hands-5.pt -O /content/paddle-ppdiffusers-webui-aistudio/textual_inversion/bad-hands-5.pt\n",
    "!wget https://huggingface.co/embed/negative/resolve/main/bad-image-v2-39000.pt -O /content/paddle-ppdiffusers-webui-aistudio/textual_inversion/bad-image-v2-39000.pt\n",
    "!wget https://huggingface.co/embed/negative/resolve/main/bad_prompt_version2.pt -O /content/paddle-ppdiffusers-webui-aistudio/textual_inversion/bad_prompt_version2.pt\n",
    "!wget https://huggingface.co/embed/negative/resolve/main/ng_deepnegative_v1_75t.pt -O /content/paddle-ppdiffusers-webui-aistudio/textual_inversion/ng_deepnegative_v1_75t.pt\n",
    "!wget https://huggingface.co/embed/negative/resolve/main/verybadimagenegative_v1.3.pt -O /content/paddle-ppdiffusers-webui-aistudio/textual_inversion/verybadimagenegative_v1.3.pt\n",
    "!wget https://huggingface.co/embed/celeb/resolve/main/koh_daisyridley.pt -O /content/paddle-ppdiffusers-webui-aistudio/textual_inversion/koh_daisyridley.pt\n",
    "\n",
    "!wget https://huggingface.co/embed/likeness/resolve/main/Japanese-doll-likeness.safetensors -O /content/paddle-ppdiffusers-webui-aistudio/lora/Japanese-doll-likeness.safetensors\n",
    "!wget https://huggingface.co/embed/likeness/resolve/main/Korean-doll-likeness.safetensors -O /content/paddle-ppdiffusers-webui-aistudio/lora/Korean-doll-likeness.safetensors\n",
    "!wget https://huggingface.co/embed/likeness/resolve/main/Taiwan-doll-likeness.safetensors -O /content/paddle-ppdiffusers-webui-aistudio/lora/Taiwan-doll-likeness.safetensors\n",
    "!wget https://huggingface.co/embed/lora/resolve/main/epiNoiseoffset_v2.safetensors -O /content/paddle-ppdiffusers-webui-aistudio/lora/epiNoiseoffset_v2.safetensors\n",
    "\n",
    "!sed -i 's/username\\/modelname/paddle\\/dark-sushi-25d/g' app.gradio.py\n",
    "\n",
    "!python app.gradio.py"
   ]
  }
 ],
 "metadata": {
  "accelerator": "GPU",
  "colab": {
   "gpuType": "T4",
   "provenance": []
  },
  "gpuClass": "standard",
  "kernelspec": {
   "display_name": "Python 3",
   "name": "python3"
  },
  "language_info": {
   "name": "python"
  },
  "orig_nbformat": 4
 },
 "nbformat": 4,
 "nbformat_minor": 0
}
