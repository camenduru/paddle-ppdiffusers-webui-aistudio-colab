{
 "cells": [
  {
   "attachments": {},
   "cell_type": "markdown",
   "metadata": {
    "id": "view-in-github"
   },
   "source": [
    "[![Open In Colab](https://colab.research.google.com/assets/colab-badge.svg)](https://colab.research.google.com/github/camenduru/paddle-ppdiffusers-webui-aistudio-colab/blob/main/paddle_ppdiffusers_webui_aistudio_colab.ipynb)"
   ]
  },
  {
   "cell_type": "code",
   "execution_count": null,
   "metadata": {},
   "outputs": [],
   "source": [
    "%cd /content\n",
    "!git clone -b colab https://github.com/camenduru/paddle-ppdiffusers-webui-aistudio\n",
    "%cd /content/paddle-ppdiffusers-webui-aistudio\n",
    "!pip install -r requirements.txt\n",
    "!python app.gradio.py"
   ]
  }
 ],
 "metadata": {
    "colab": {
      "provenance": [],
      "gpuType": "T4"
    },
    "gpuClass": "standard",
    "kernelspec": {
      "display_name": "Python 3",
      "name": "python3"
    },
    "language_info": {
      "name": "python"
    },
    "orig_nbformat": 4,
    "accelerator": "GPU"
  },
  "nbformat": 4,
  "nbformat_minor": 0
}
